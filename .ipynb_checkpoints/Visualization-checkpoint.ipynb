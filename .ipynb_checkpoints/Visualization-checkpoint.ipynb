{
 "cells": [
  {
   "cell_type": "markdown",
   "metadata": {},
   "source": [
    "# Is the IPO-office cut off the UMass campus?\n",
    "## The idea"
   ]
  },
  {
   "cell_type": "markdown",
   "metadata": {},
   "source": [
    "The idea for this small project was genereated while I walked across the UMas-Campus realizing that there are some spots which are near by map but far if you actually walk there. I tried to find out this places algorithmically by comparing the shortest paths to the actual walking distances. Enjoy the plots"
   ]
  },
  {
   "cell_type": "markdown",
   "metadata": {},
   "source": [
    "# The Code"
   ]
  },
  {
   "cell_type": "markdown",
   "metadata": {},
   "source": [
    "## 0. Imports"
   ]
  },
  {
   "cell_type": "code",
   "execution_count": 48,
   "metadata": {},
   "outputs": [],
   "source": [
    "import copy\n",
    "import numpy as np\n",
    "\n",
    "import matplotlib \n",
    "import matplotlib.image as mpimg \n",
    "import matplotlib.pyplot as plt \n",
    "\n",
    "        \n",
    "START_SYMBOL = 's'\n",
    "DESTINATION_SYMBOL = 't'\n",
    "VISITED_SYMBOL = 'x'\n",
    "WAY_SYMBOL = 'w'\n",
    "EMPTY_SYMBOL = ' '"
   ]
  },
  {
   "cell_type": "markdown",
   "metadata": {},
   "source": [
    "## 1. Create array from Image source"
   ]
  },
  {
   "cell_type": "code",
   "execution_count": 49,
   "metadata": {},
   "outputs": [
    {
     "name": "stdout",
     "output_type": "stream",
     "text": [
      "Input-dimensions: (686, 701, 4)\n"
     ]
    }
   ],
   "source": [
    "\n",
    "def set_path_by_pixel(pixel_array):\n",
    "    if pixel_array[3] == 0.0:\n",
    "        return EMPTY_SYMBOL \n",
    "    else:\n",
    "        return WAY_SYMBOL\n",
    "\n",
    "    \n",
    "###  ------------------------\n",
    "###  Chose your input here\n",
    "###\n",
    "\n",
    "    # Small example\n",
    "#img = mpimg.imread('first_try_lines_only.png') \n",
    "\n",
    "    # big example\n",
    "img = mpimg.imread('umass_center_lines_only.png') \n",
    "\n",
    "###\n",
    "###  \n",
    "###  ------------------------\n",
    "\n",
    "height = img.shape[0]\n",
    "width = img.shape[1]\n",
    "\n",
    "print('Input-dimensions: ' + str(img.shape))\n",
    "\n",
    "board = [ [0 for i in range(width)] for i in range(height)]\n",
    "for i in range(height):\n",
    "    for j in range(width):\n",
    "        board[i][j] = set_path_by_pixel(img[i][j])\n",
    " "
   ]
  },
  {
   "cell_type": "markdown",
   "metadata": {},
   "source": [
    "## 2. Calulate shortest paths\n",
    "### Util functions"
   ]
  },
  {
   "cell_type": "code",
   "execution_count": 50,
   "metadata": {},
   "outputs": [],
   "source": [
    "# ----------------- BFS implementation ----------------- \n",
    "\"\"\"\n",
    "calculates shortest Path from point index s to every other waypoint\n",
    "\"\"\"\n",
    "def get_one_to_all_distances(board, s):\n",
    "    search_board = copy.deepcopy(board)\n",
    "    set_board_symbol(s, START_SYMBOL, search_board)\n",
    "    \n",
    "    return doSearch(s, search_board)\n",
    "\n",
    "#index = (i,j)\n",
    "def doSearch(index, search_board):\n",
    "    cost = 1\n",
    "    outer_border = [index]\n",
    "    next_outer_border = []\n",
    "    while(True):\n",
    "        while len(outer_border) > 0:\n",
    "            index = outer_border.pop()\n",
    "            mark_as_visited(index, search_board, cost-1) \n",
    "            surrounding_cells = get_surrounding_all_cells(index, search_board)\n",
    "            for surrounder in surrounding_cells:\n",
    "                if not surrounder in next_outer_border:\n",
    "                    next_outer_border.append(surrounder)\n",
    "           \n",
    "        cost = cost +1\n",
    "        outer_border = copy.deepcopy(next_outer_border)\n",
    "        next_outer_border = []\n",
    "        if len(outer_border) == 0:\n",
    "            return search_board\n",
    "    \n",
    "        \n",
    "#index = (i,j)\n",
    "def get_surrounding_all_cells(index, search_board):\n",
    "    i = index[0]\n",
    "    j = index[1]\n",
    "    cells = []\n",
    "    if i + 1 < get_board_height(search_board):\n",
    "        cells.append( (i+1, j) )\n",
    "    if i - 1 >= 0:\n",
    "        cells.append( (i-1, j) )\n",
    "    if j + 1 < get_board_weight(search_board):\n",
    "        cells.append( (i, j+1) )\n",
    "    if j - 1 >= 0:\n",
    "        cells.append( (i, j-1) )\n",
    "    return remove_no_way_cells(cells, search_board)\n",
    "\n",
    "def cells_contain_destination(surrounding_cells, search_board):\n",
    "    for cell in surrounding_cells:\n",
    "        if is_destination_field(cell, search_board):\n",
    "            return True\n",
    "    return False\n",
    "    \n",
    "def remove_no_way_cells(cell_candidates, search_board):\n",
    "    cells = []\n",
    "    for cell in cell_candidates:\n",
    "        if cell_represents_way(cell, search_board):\n",
    "            cells.append(cell)\n",
    "    return cells\n",
    "\n",
    "\n",
    "# ----------------- board interactions ----------------- \n",
    "\n",
    "def mark_as_visited(index, search_board,sm):\n",
    "    i = index[0]\n",
    "    j = index[1]\n",
    "    search_board[i][j] = sm\n",
    "    \n",
    "def get_board_height(search_board):\n",
    "    return len(search_board)\n",
    "\n",
    "def get_board_weight(search_board):\n",
    "    return len(search_board[0])\n",
    "\n",
    "def cell_represents_way(index, board):\n",
    "    symbol = get_board_symbol(index, board)\n",
    "    if symbol == WAY_SYMBOL or symbol == DESTINATION_SYMBOL:\n",
    "        return True\n",
    "    return False\n",
    "\n",
    "def is_destination_field(index, board):\n",
    "    return DESTINATION_SYMBOL == get_board_symbol(index, board)\n",
    "    \n",
    "def get_board_symbol(index, board):\n",
    "    i = index[0]\n",
    "    j = index[1]\n",
    "    return board[i][j]\n",
    "\n",
    "def set_board_symbol(index, symbol, board):\n",
    "    i = index[0]\n",
    "    j = index[1]\n",
    "    board[i][j] = symbol\n",
    "\n",
    "# ----------------- plotting for debigging  ----------------- \n",
    "def plot_board(board):\n",
    "    for line in board:\n",
    "        print(line)"
   ]
  },
  {
   "cell_type": "markdown",
   "metadata": {},
   "source": [
    "### Setting starting point and start calculation"
   ]
  },
  {
   "cell_type": "code",
   "execution_count": 51,
   "metadata": {},
   "outputs": [],
   "source": [
    "###  ------------------------\n",
    "###  Chose your input here\n",
    "###\n",
    "\n",
    "s = (68,112)\n",
    "\n",
    "### \n",
    "### ------------------------\n",
    "\n",
    "\n",
    "distance_board = get_one_to_all_distances(board,s)"
   ]
  },
  {
   "cell_type": "markdown",
   "metadata": {
    "scrolled": true
   },
   "source": [
    "## 3. Evaluate Solutions\n",
    "### Util functions"
   ]
  },
  {
   "cell_type": "code",
   "execution_count": 52,
   "metadata": {},
   "outputs": [],
   "source": [
    "def encode_board_into_color(distance_board, max_val):\n",
    "    color_board = copy.deepcopy(distance_board)\n",
    "    for i in range(len(distance_board)):\n",
    "        for j in range(len(distance_board[0])):\n",
    "            if (i,j) == s:\n",
    "                color_board[i][j] = [0.1,0.5,0.1,1.0]\n",
    "            else:\n",
    "                color_board[i][j] = encode_in_color(distance_board[i][j], max_val)\n",
    "    return color_board\n",
    "\n",
    "def get_max_value(board):\n",
    "    toFloat = lambda x: -1.0 if type(x) == str  else float(x)\n",
    "\n",
    "    global_max = 0\n",
    "    for i in range(len(board)):\n",
    "        local_max = max(list(map(toFloat, board[i])))\n",
    "        if global_max < local_max:\n",
    "            global_max = local_max\n",
    "    return global_max\n",
    "\n",
    "def encode_in_color(x, max_val):\n",
    "    cmap = matplotlib.cm.get_cmap('YlOrRd')\n",
    "\n",
    "    if type(x) == float:\n",
    "        new = x/max_val\n",
    "    if type(x) == int:\n",
    "         new = float(x)/max_val\n",
    "    if type(x) == str:\n",
    "         return [0.1,0.1,0.1, 1.0]\n",
    "    return cmap(new)\n",
    "\n",
    "def calculate_distance_deviations(s, initial_board):\n",
    "    deviaiton_board = copy.deepcopy(initial_board)\n",
    "    for i in range(len(deviaiton_board)):\n",
    "        for j in range(len(deviaiton_board[0])):\n",
    "            if type(deviaiton_board[i][j]) == str:\n",
    "                deviaiton_board[i][j] = ' '\n",
    "            else:\n",
    "                deviaiton_board[i][j] = calculate_deviation(s, initial_board[i][j], (i, j))\n",
    "    return deviaiton_board\n",
    "\n",
    "def calculate_deviation(s, walking_distance, t):\n",
    "    air_distance = evaulate_manhatten_distance(s, t)\n",
    "    return walking_distance - air_distance   \n",
    "    \n",
    "def evaulate_manhatten_distance(s, t):\n",
    "    i1 = s[0]\n",
    "    j1 = s[1]\n",
    "    i2 = t[0]\n",
    "    j2 = t[1]\n",
    "    delta_y = abs(i1 - i2)\n",
    "    delta_x = abs(j1 - j2)\n",
    "    return delta_x + delta_y\n",
    "    "
   ]
  },
  {
   "cell_type": "markdown",
   "metadata": {},
   "source": [
    "### Scale heatmap based on maximum value"
   ]
  },
  {
   "cell_type": "code",
   "execution_count": null,
   "metadata": {},
   "outputs": [],
   "source": [
    "# ----------------- shortest path evaluation ----------------- \n",
    "max_val = get_max_value(distance_board)\n",
    "colored_shortest_distance_board = encode_board_into_color(distance_board, max_val)\n",
    "shortest_path_data = np.array(colored_shortest_distance_board)    \n",
    "\n",
    "\n",
    "# ----------------- compare shorest path to direct distance  ----------------- \n",
    "\n",
    "# ------- compare  -------- \n",
    "deviation_board = calculate_distance_deviations(s, distance_board)\n",
    "max_val = get_max_value(deviation_board)\n",
    "\n",
    "# ------- color results  -------- \n",
    "colored_deviation_board = encode_board_into_color(deviation_board, max_val)\n",
    "deviation_data = np.array(colored_deviation_board)"
   ]
  },
  {
   "cell_type": "code",
   "execution_count": null,
   "metadata": {},
   "outputs": [],
   "source": [
    "\"\"\"\n",
    "This function has been found on [1]. I adapted it for my purposes.\n",
    "\n",
    "[1] https://matplotlib.org/3.1.1/gallery/images_contours_and_fields/image_annotated_heatmap.html\n",
    "\"\"\"\n",
    "def plot_image(data, title, labeling_data):\n",
    "    #get dimensions\n",
    "    data_height = data.shape[0]\n",
    "    data_width = data.shape[1]\n",
    "\n",
    "    #adjust image size\n",
    "    ratio = data_height / data_width\n",
    "    figwidth = 25\n",
    "    fugheight = figwidth * ratio \n",
    "    \n",
    "    #generate plain plot\n",
    "    fig, ax = plt.subplots(figsize=(10,figwidth))\n",
    "    im = ax.imshow(data)\n",
    "\n",
    "    #set scaling-text and title\n",
    "    plt.setp(ax.get_xticklabels(), rotation=45, ha=\"right\", rotation_mode=\"anchor\")\n",
    "    ax.set_title(title)\n",
    "    fig.tight_layout()\n",
    "    \n",
    "    plt.show()\n",
    "\n",
    "    \n",
    "\n",
    "# ----------------- Plot the results ----------------- \n",
    "plot_image(shortest_path_data, \"Shortest path distances\", distance_board)\n",
    "plot_image(deviation_data, \"Deviation of shortest path distances from manhatten\", deviation_board)"
   ]
  }
 ],
 "metadata": {
  "kernelspec": {
   "display_name": "Python 3",
   "language": "python",
   "name": "python3"
  },
  "language_info": {
   "codemirror_mode": {
    "name": "ipython",
    "version": 2
   },
   "file_extension": ".py",
   "mimetype": "text/x-python",
   "name": "python",
   "nbconvert_exporter": "python",
   "pygments_lexer": "ipython2",
   "version": "2.7.15+"
  }
 },
 "nbformat": 4,
 "nbformat_minor": 2
}
